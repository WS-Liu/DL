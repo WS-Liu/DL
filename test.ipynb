{
 "cells": [
  {
   "cell_type": "code",
   "execution_count": 3,
   "metadata": {},
   "outputs": [
    {
     "name": "stdout",
     "output_type": "stream",
     "text": [
      "x: (60000, 28, 28, 1) y: (60000,) x_test: (10000, 28, 28, 1) y_test: (10000,)\n"
     ]
    }
   ],
   "source": [
    "import tensorflow as tf\n",
    "from tensorflow import keras\n",
    "from tensorflow.keras import datasets\n",
    "from tensorflow.keras.layers import Conv2D,BatchNormalization,Activation,MaxPool2D,Dropout,Flatten,Dense\n",
    "from tensorflow.keras import Sequential,layers,optimizers,losses\n",
    "from matplotlib import pyplot as plt\n",
    "import numpy as np\n",
    "import os\n",
    "(x,y),(x_test,y_test) = datasets.mnist.load_data()#load mnist dataset\n",
    "x=np.expand_dims(x, axis=3)\n",
    "x_test=np.expand_dims(x_test, axis=3)\n",
    "print('x:',x.shape,'y:',y.shape,'x_test:',x_test.shape,'y_test:',y_test.shape)"
   ]
  },
  {
   "cell_type": "markdown",
   "metadata": {},
   "source": [
    " # MNIST figure,the four figures in the dataset visualation"
   ]
  },
  {
   "cell_type": "code",
   "execution_count": 4,
   "metadata": {},
   "outputs": [
    {
     "data": {
      "image/png": "[encoded data removed]",
      "text/plain": [
       "<Figure size 432x288 with 4 Axes>"
      ]
     },
     "metadata": {
      "needs_background": "light"
     },
     "output_type": "display_data"
    }
   ],
   "source": [
    "plt.gcf\n",
    "for i in range(4):\n",
    "    img=np.array(x[i])\n",
    "    plt.subplot(2,2,i+1)\n",
    "    plt.imshow(img)\n",
    "plt.show()"
   ]
  },
  {
   "cell_type": "markdown",
   "metadata": {},
   "source": [
    "# data preparation"
   ]
  },
  {
   "cell_type": "code",
   "execution_count": 5,
   "metadata": {},
   "outputs": [
    {
     "data": {
      "text/plain": [
       "array([0., 0., 0., 0., 0., 1., 0., 0., 0., 0.])"
      ]
     },
     "execution_count": 5,
     "metadata": {},
     "output_type": "execute_result"
    }
   ],
   "source": [
    "def convert_onehot(index,len):\n",
    "    onehot=np.zeros((len,))\n",
    "    onehot[index]=1\n",
    "    return onehot\n",
    "convert_onehot(y[0],10)    #convert label to onehot"
   ]
  },
  {
   "cell_type": "code",
   "execution_count": 6,
   "metadata": {},
   "outputs": [],
   "source": [
    "def convert_label(indice):\n",
    "    temp=[]\n",
    "    for i in range(len(indice)):\n",
    "        temp.append(convert_onehot(indice[i],10))\n",
    "    return temp\n",
    "#labels to onehot vector"
   ]
  },
  {
   "cell_type": "code",
   "execution_count": 7,
   "metadata": {},
   "outputs": [],
   "source": [
    "def preprocess(x,y):\n",
    "    x=tf.cast(x,dtype=tf.float32)/255.    #normalazation\n",
    "    #x=tf.reshape(x,[-1,28*28])            #flatten\n",
    "    y=tf.cast(y,dtype=tf.int32)\n",
    "    y=tf.one_hot(y,depth=10)\n",
    "    return x,y"
   ]
  },
  {
   "cell_type": "code",
   "execution_count": 8,
   "metadata": {},
   "outputs": [
    {
     "name": "stdout",
     "output_type": "stream",
     "text": [
      "<MapDataset shapes: ((None, 28, 28, 1), (None, 10)), types: (tf.float32, tf.float32)>\n"
     ]
    }
   ],
   "source": [
    "xy_dataset=tf.data.Dataset.from_tensor_slices((x,y)) #make dataset object\n",
    "xy_dataset=xy_dataset.shuffle(len(y))  #random\n",
    "xy_dataset=xy_dataset.batch(128)       #mini batch\n",
    "xy_dataset=xy_dataset.map(preprocess)\n",
    "print(xy_dataset)"
   ]
  },
  {
   "cell_type": "markdown",
   "metadata": {},
   "source": [
    "# make model"
   ]
  },
  {
   "cell_type": "code",
   "execution_count": 9,
   "metadata": {},
   "outputs": [],
   "source": [
    "network = Sequential([\n",
    "    layers.Conv2D(6,kernel_size=3,strides=1), # 第一个卷积层, 6 个 3x3 卷积核\n",
    "    layers.MaxPooling2D(pool_size=2,strides=2), # 高宽各减半的池化层\n",
    "    layers.ReLU(), # 激活函数\n",
    "    layers.Conv2D(16,kernel_size=3,strides=1), # 第二个卷积层, 16 个 3x3 卷积核\n",
    "    layers.MaxPooling2D(pool_size=2,strides=2), # 高宽各减半的池化层\n",
    "    layers.ReLU(), # 激活函数\n",
    "    layers.Flatten(), # 打平层，方便全连接层处理\n",
    "    layers.Dense(120, activation='relu'), # 全连接层，120 个节点\n",
    "    layers.Dense(84, activation='relu'), # 全连接层，84 节点\n",
    "    layers.Dense(10) # 全连接层，10 个节点\n",
    "                ])"
   ]
  },
  {
   "cell_type": "code",
   "execution_count": 10,
   "metadata": {},
   "outputs": [
    {
     "name": "stdout",
     "output_type": "stream",
     "text": [
      "Model: \"sequential\"\n",
      "_________________________________________________________________\n",
      "Layer (type)                 Output Shape              Param #   \n",
      "=================================================================\n",
      "conv2d (Conv2D)              (4, 26, 26, 6)            60        \n",
      "_________________________________________________________________\n",
      "max_pooling2d (MaxPooling2D) (4, 13, 13, 6)            0         \n",
      "_________________________________________________________________\n",
      "re_lu (ReLU)                 (4, 13, 13, 6)            0         \n",
      "_________________________________________________________________\n",
      "conv2d_1 (Conv2D)            (4, 11, 11, 16)           880       \n",
      "_________________________________________________________________\n",
      "max_pooling2d_1 (MaxPooling2 (4, 5, 5, 16)             0         \n",
      "_________________________________________________________________\n",
      "re_lu_1 (ReLU)               (4, 5, 5, 16)             0         \n",
      "_________________________________________________________________\n",
      "flatten (Flatten)            (4, 400)                  0         \n",
      "_________________________________________________________________\n",
      "dense (Dense)                (4, 120)                  48120     \n",
      "_________________________________________________________________\n",
      "dense_1 (Dense)              (4, 84)                   10164     \n",
      "_________________________________________________________________\n",
      "dense_2 (Dense)              (4, 10)                   850       \n",
      "=================================================================\n",
      "Total params: 60,074\n",
      "Trainable params: 60,074\n",
      "Non-trainable params: 0\n",
      "_________________________________________________________________\n"
     ]
    }
   ],
   "source": [
    "network.build(input_shape=(4, 28,28,1))\n",
    "network.summary()"
   ]
  },
  {
   "cell_type": "code",
   "execution_count": 11,
   "metadata": {},
   "outputs": [
    {
     "name": "stdout",
     "output_type": "stream",
     "text": [
      "Epoch 1/10\n",
      "469/469 [==============================] - 15s 32ms/step - loss: 0.1605 - accuracy: 0.9505\n",
      "Epoch 2/10\n",
      "469/469 [==============================] - 15s 32ms/step - loss: 0.0624 - accuracy: 0.9807\n",
      "Epoch 3/10\n",
      "469/469 [==============================] - 15s 32ms/step - loss: 0.0550 - accuracy: 0.9837\n",
      "Epoch 4/10\n",
      "469/469 [==============================] - 17s 37ms/step - loss: 0.0457 - accuracy: 0.9864\n",
      "Epoch 5/10\n",
      "469/469 [==============================] - 18s 38ms/step - loss: 0.0438 - accuracy: 0.9871\n",
      "Epoch 6/10\n",
      "469/469 [==============================] - 15s 32ms/step - loss: 0.0406 - accuracy: 0.9884\n",
      "Epoch 7/10\n",
      "469/469 [==============================] - 15s 32ms/step - loss: 0.0399 - accuracy: 0.9889\n",
      "Epoch 8/10\n",
      "469/469 [==============================] - 15s 33ms/step - loss: 0.0379 - accuracy: 0.9886\n",
      "Epoch 9/10\n",
      "469/469 [==============================] - 15s 33ms/step - loss: 0.0365 - accuracy: 0.9897\n",
      "Epoch 10/10\n",
      "469/469 [==============================] - 15s 32ms/step - loss: 0.0358 - accuracy: 0.9905\n"
     ]
    },
    {
     "data": {
      "text/plain": [
       "{'loss': [0.16053901612758636,\n",
       "  0.062395963817834854,\n",
       "  0.055015191435813904,\n",
       "  0.04567939415574074,\n",
       "  0.04379158094525337,\n",
       "  0.0405874140560627,\n",
       "  0.03990473598241806,\n",
       "  0.037946660071611404,\n",
       "  0.03650447353720665,\n",
       "  0.03582059592008591],\n",
       " 'accuracy': [0.9504500031471252,\n",
       "  0.9807000160217285,\n",
       "  0.9837333559989929,\n",
       "  0.9864166378974915,\n",
       "  0.9871000051498413,\n",
       "  0.9884166717529297,\n",
       "  0.9888666868209839,\n",
       "  0.9886333346366882,\n",
       "  0.9896666407585144,\n",
       "  0.9904833436012268]}"
      ]
     },
     "execution_count": 11,
     "metadata": {},
     "output_type": "execute_result"
    }
   ],
   "source": [
    "network.compile(optimizer= optimizers.Adam(lr=0.01),\n",
    "               loss=losses.CategoricalCrossentropy(from_logits=True),\n",
    "                metrics=['accuracy'])\n",
    "history=network.fit(xy_dataset,epochs=10)\n",
    "history.history"
   ]
  },
  {
   "cell_type": "markdown",
   "metadata": {},
   "source": [
    "# test"
   ]
  },
  {
   "cell_type": "code",
   "execution_count": 12,
   "metadata": {},
   "outputs": [
    {
     "name": "stdout",
     "output_type": "stream",
     "text": [
      "(10000, 28, 28, 1)\n",
      "(10000, 10)\n"
     ]
    }
   ],
   "source": [
    "test_dataset=tf.data.Dataset.from_tensor_slices((x_test,y_test))\n",
    "test_dataset=test_dataset.batch(128)\n",
    "test_dataset=test_dataset.map(preprocess)\n",
    "out=network.predict(x_test)\n",
    "print(x_test.shape)\n",
    "print(out.shape)"
   ]
  },
  {
   "cell_type": "code",
   "execution_count": 13,
   "metadata": {},
   "outputs": [
    {
     "name": "stdout",
     "output_type": "stream",
     "text": [
      "79/79 [==============================] - 1s 16ms/step - loss: 0.0605 - accuracy: 0.9859\n"
     ]
    },
    {
     "data": {
      "text/plain": [
       "[0.06050664559006691, 0.9858999848365784]"
      ]
     },
     "execution_count": 13,
     "metadata": {},
     "output_type": "execute_result"
    }
   ],
   "source": [
    "network.evaluate(test_dataset)"
   ]
  },
  {
   "cell_type": "code",
   "execution_count": null,
   "metadata": {},
   "outputs": [],
   "source": []
  }
 ],
 "metadata": {
  "kernelspec": {
   "display_name": "Python 3",
   "language": "python",
   "name": "python3"
  },
  "language_info": {
   "codemirror_mode": {
    "name": "ipython",
    "version": 3
   },
   "file_extension": ".py",
   "mimetype": "text/x-python",
   "name": "python",
   "nbconvert_exporter": "python",
   "pygments_lexer": "ipython3",
   "version": "3.8.5"
  }
 },
 "nbformat": 4,
 "nbformat_minor": 2
}
