{
 "cells": [
  {
   "cell_type": "code",
   "execution_count": 15,
   "metadata": {},
   "outputs": [
    {
     "name": "stdout",
     "output_type": "stream",
     "text": [
      "x: (60000, 28, 28, 1) y: (60000,) x_test: (10000, 28, 28, 1) y_test: (10000,)\n"
     ]
    }
   ],
   "source": [
    "import tensorflow as tf\n",
    "from tensorflow import keras\n",
    "from tensorflow.keras import datasets\n",
    "from tensorflow.keras.layers import Conv2D,BatchNormalization,Activation,MaxPool2D,Dropout,Flatten,Dense\n",
    "from tensorflow.keras import Sequential,layers,optimizers,losses\n",
    "from matplotlib import pyplot as plt\n",
    "import numpy as np\n",
    "import os\n",
    "(x,y),(x_test,y_test) = datasets.mnist.load_data()#load mnist dataset\n",
    "x=np.expand_dims(x, axis=3)\n",
    "x_test=np.expand_dims(x_test, axis=3)\n",
    "print('x:',x.shape,'y:',y.shape,'x_test:',x_test.shape,'y_test:',y_test.shape)#the dataset shape"
   ]
  },
  {
   "cell_type": "markdown",
   "metadata": {},
   "source": [
    " # MNIST figure,the four figures in the MNIST dataset "
   ]
  },
  {
   "cell_type": "code",
   "execution_count": 16,
   "metadata": {},
   "outputs": [
    {
     "data": {
      "image/png": "[encoded data removed]",
      "text/plain": [
       "<Figure size 432x288 with 4 Axes>"
      ]
     },
     "metadata": {
      "needs_background": "light"
     },
     "output_type": "display_data"
    }
   ],
   "source": [
    "plt.gcf\n",
    "for i in range(4):\n",
    "    img=np.array(x[i])\n",
    "    plt.subplot(2,2,i+1)\n",
    "    plt.imshow(img)\n",
    "plt.show()"
   ]
  },
  {
   "cell_type": "markdown",
   "metadata": {},
   "source": [
    "# data preparation"
   ]
  },
  {
   "cell_type": "code",
   "execution_count": 17,
   "metadata": {},
   "outputs": [
    {
     "data": {
      "text/plain": [
       "array([0., 0., 0., 0., 0., 1., 0., 0., 0., 0.])"
      ]
     },
     "execution_count": 17,
     "metadata": {},
     "output_type": "execute_result"
    }
   ],
   "source": [
    "def convert_onehot(index,len):\n",
    "    onehot=np.zeros((len,))\n",
    "    onehot[index]=1\n",
    "    return onehot\n",
    "convert_onehot(y[0],10)    #convert label to onehot"
   ]
  },
  {
   "cell_type": "code",
   "execution_count": 18,
   "metadata": {},
   "outputs": [],
   "source": [
    "def convert_label(indice):\n",
    "    temp=[]\n",
    "    for i in range(len(indice)):\n",
    "        temp.append(convert_onehot(indice[i],10))\n",
    "    return temp\n",
    "#labels to onehot vector"
   ]
  },
  {
   "cell_type": "code",
   "execution_count": 19,
   "metadata": {},
   "outputs": [],
   "source": [
    "def preprocess(x,y):\n",
    "    x=tf.cast(x,dtype=tf.float32)/255.    #normalazation\n",
    "    #x=tf.reshape(x,[-1,28*28])            #flatten\n",
    "    y=tf.cast(y,dtype=tf.int32)\n",
    "    y=tf.one_hot(y,depth=10)\n",
    "    return x,y"
   ]
  },
  {
   "cell_type": "code",
   "execution_count": 20,
   "metadata": {},
   "outputs": [
    {
     "name": "stdout",
     "output_type": "stream",
     "text": [
      "<MapDataset shapes: ((None, 28, 28, 1), (None, 10)), types: (tf.float32, tf.float32)>\n"
     ]
    }
   ],
   "source": [
    "xy_dataset=tf.data.Dataset.from_tensor_slices((x,y)) #make dataset object\n",
    "xy_dataset=xy_dataset.shuffle(len(y))  #random\n",
    "xy_dataset=xy_dataset.batch(128)       #mini batch\n",
    "xy_dataset=xy_dataset.map(preprocess)\n",
    "print(xy_dataset)"
   ]
  },
  {
   "cell_type": "markdown",
   "metadata": {},
   "source": [
    "# model building"
   ]
  },
  {
   "cell_type": "code",
   "execution_count": 21,
   "metadata": {},
   "outputs": [],
   "source": [
    "network = Sequential([\n",
    "    layers.Conv2D(6,kernel_size=3,strides=1,padding='SAME'), #convolutional layer:6kernal3*3,pad with same\n",
    "    layers.MaxPooling2D(pool_size=2,strides=2), # max pooling layer sizeto1/2\n",
    "    layers.ReLU(), # activation function;relu\n",
    "    layers.Conv2D(16,kernel_size=3,strides=1,padding='SAME'), # convolutional layer:16kernal3*3\n",
    "    layers.MaxPooling2D(pool_size=2,strides=2,padding='SAME'), # same as last\n",
    "    layers.ReLU(), # activation function:relu\n",
    "    layers.Flatten(), # flat to 1 dimension\n",
    "    layers.Dense(120, activation='relu'), # fully connected layer,120 nodes\n",
    "    layers.Dense(10) \n",
    "                ])"
   ]
  },
  {
   "cell_type": "code",
   "execution_count": 22,
   "metadata": {},
   "outputs": [
    {
     "name": "stdout",
     "output_type": "stream",
     "text": [
      "Model: \"sequential_2\"\n",
      "_________________________________________________________________\n",
      "Layer (type)                 Output Shape              Param #   \n",
      "=================================================================\n",
      "conv2d_4 (Conv2D)            (4, 28, 28, 6)            60        \n",
      "_________________________________________________________________\n",
      "max_pooling2d_4 (MaxPooling2 (4, 14, 14, 6)            0         \n",
      "_________________________________________________________________\n",
      "re_lu_4 (ReLU)               (4, 14, 14, 6)            0         \n",
      "_________________________________________________________________\n",
      "conv2d_5 (Conv2D)            (4, 14, 14, 16)           880       \n",
      "_________________________________________________________________\n",
      "max_pooling2d_5 (MaxPooling2 (4, 7, 7, 16)             0         \n",
      "_________________________________________________________________\n",
      "re_lu_5 (ReLU)               (4, 7, 7, 16)             0         \n",
      "_________________________________________________________________\n",
      "flatten_2 (Flatten)          (4, 784)                  0         \n",
      "_________________________________________________________________\n",
      "dense_5 (Dense)              (4, 120)                  94200     \n",
      "_________________________________________________________________\n",
      "dense_6 (Dense)              (4, 10)                   1210      \n",
      "=================================================================\n",
      "Total params: 96,350\n",
      "Trainable params: 96,350\n",
      "Non-trainable params: 0\n",
      "_________________________________________________________________\n"
     ]
    }
   ],
   "source": [
    "#network.add(layers.Dropout(0.2))  #dropout mean\n",
    "network.build(input_shape=(4, 28,28,1))\n",
    "network.summary()"
   ]
  },
  {
   "cell_type": "code",
   "execution_count": 28,
   "metadata": {},
   "outputs": [
    {
     "name": "stdout",
     "output_type": "stream",
     "text": [
      "Epoch 1/30\n",
      "469/469 [==============================] - 11s 23ms/step - loss: 0.0295 - accuracy: 0.9944\n",
      "Epoch 2/30\n",
      "469/469 [==============================] - 12s 25ms/step - loss: 0.0207 - accuracy: 0.9957\n",
      "Epoch 3/30\n",
      "469/469 [==============================] - 12s 25ms/step - loss: 0.0275 - accuracy: 0.9939\n",
      "Epoch 4/30\n",
      "469/469 [==============================] - 12s 25ms/step - loss: 0.0244 - accuracy: 0.9954\n",
      "Epoch 5/30\n",
      "469/469 [==============================] - 12s 25ms/step - loss: 0.0179 - accuracy: 0.9965\n",
      "Epoch 6/30\n",
      "469/469 [==============================] - 12s 25ms/step - loss: 0.0340 - accuracy: 0.9942\n",
      "Epoch 7/30\n",
      "469/469 [==============================] - 12s 25ms/step - loss: 0.0213 - accuracy: 0.9957\n",
      "Epoch 8/30\n",
      "469/469 [==============================] - 12s 26ms/step - loss: 0.0269 - accuracy: 0.9951\n",
      "Epoch 9/30\n",
      "469/469 [==============================] - 12s 26ms/step - loss: 0.0442 - accuracy: 0.9933\n",
      "Epoch 10/30\n",
      "469/469 [==============================] - 12s 26ms/step - loss: 0.0259 - accuracy: 0.9958\n",
      "Epoch 11/30\n",
      "469/469 [==============================] - 12s 26ms/step - loss: 0.0240 - accuracy: 0.9958\n",
      "Epoch 12/30\n",
      "469/469 [==============================] - 12s 26ms/step - loss: 0.0184 - accuracy: 0.9968\n",
      "Epoch 13/30\n",
      "469/469 [==============================] - 12s 26ms/step - loss: 0.0319 - accuracy: 0.9948\n",
      "Epoch 14/30\n",
      "469/469 [==============================] - 12s 26ms/step - loss: 0.0257 - accuracy: 0.9961\n",
      "Epoch 15/30\n",
      "469/469 [==============================] - 12s 26ms/step - loss: 0.0235 - accuracy: 0.9963\n",
      "Epoch 16/30\n",
      "469/469 [==============================] - 12s 25ms/step - loss: 0.0381 - accuracy: 0.9950\n",
      "Epoch 17/30\n",
      "469/469 [==============================] - 11s 24ms/step - loss: 0.0328 - accuracy: 0.9954\n",
      "Epoch 18/30\n",
      "469/469 [==============================] - 11s 24ms/step - loss: 0.0269 - accuracy: 0.9962\n",
      "Epoch 19/30\n",
      "469/469 [==============================] - 11s 24ms/step - loss: 0.0304 - accuracy: 0.9962\n",
      "Epoch 20/30\n",
      "469/469 [==============================] - 11s 24ms/step - loss: 0.0349 - accuracy: 0.9957\n",
      "Epoch 21/30\n",
      "469/469 [==============================] - 11s 24ms/step - loss: 0.0176 - accuracy: 0.9974\n",
      "Epoch 22/30\n",
      "469/469 [==============================] - 12s 25ms/step - loss: 0.0321 - accuracy: 0.9955\n",
      "Epoch 23/30\n",
      "469/469 [==============================] - 12s 26ms/step - loss: 0.0403 - accuracy: 0.9957\n",
      "Epoch 24/30\n",
      "469/469 [==============================] - 12s 26ms/step - loss: 0.0304 - accuracy: 0.9964\n",
      "Epoch 25/30\n",
      "469/469 [==============================] - 13s 27ms/step - loss: 0.0316 - accuracy: 0.9965\n",
      "Epoch 26/30\n",
      "469/469 [==============================] - 13s 27ms/step - loss: 0.0410 - accuracy: 0.9960\n",
      "Epoch 27/30\n",
      "469/469 [==============================] - 13s 27ms/step - loss: 0.0219 - accuracy: 0.9973\n",
      "Epoch 28/30\n",
      "469/469 [==============================] - 13s 28ms/step - loss: 0.0322 - accuracy: 0.9969\n",
      "Epoch 29/30\n",
      "469/469 [==============================] - 13s 27ms/step - loss: 0.0311 - accuracy: 0.9971\n",
      "Epoch 30/30\n",
      "469/469 [==============================] - 13s 27ms/step - loss: 0.0345 - accuracy: 0.9969\n"
     ]
    },
    {
     "data": {
      "text/plain": [
       "{'loss': [0.02947446145117283,\n",
       "  0.020715557038784027,\n",
       "  0.027490444481372833,\n",
       "  0.02443266473710537,\n",
       "  0.01793132722377777,\n",
       "  0.03401118144392967,\n",
       "  0.02133498154580593,\n",
       "  0.026896080002188683,\n",
       "  0.04419288784265518,\n",
       "  0.025948984548449516,\n",
       "  0.02395780012011528,\n",
       "  0.01844995655119419,\n",
       "  0.03187170252203941,\n",
       "  0.025690505281090736,\n",
       "  0.023525068536400795,\n",
       "  0.038094259798526764,\n",
       "  0.03278046473860741,\n",
       "  0.02685050293803215,\n",
       "  0.030396293848752975,\n",
       "  0.03489827364683151,\n",
       "  0.01759607344865799,\n",
       "  0.03207183629274368,\n",
       "  0.04032684490084648,\n",
       "  0.03040616400539875,\n",
       "  0.03161895275115967,\n",
       "  0.04102635756134987,\n",
       "  0.021912500262260437,\n",
       "  0.03220123052597046,\n",
       "  0.031125307083129883,\n",
       "  0.034547802060842514],\n",
       " 'accuracy': [0.9944166541099548,\n",
       "  0.9957000017166138,\n",
       "  0.9939333200454712,\n",
       "  0.9954333305358887,\n",
       "  0.9965333342552185,\n",
       "  0.994183361530304,\n",
       "  0.9957000017166138,\n",
       "  0.9950833320617676,\n",
       "  0.9933000206947327,\n",
       "  0.9957666397094727,\n",
       "  0.9958000183105469,\n",
       "  0.9968166947364807,\n",
       "  0.9948166608810425,\n",
       "  0.9960500001907349,\n",
       "  0.9962833523750305,\n",
       "  0.9950166940689087,\n",
       "  0.9953666925430298,\n",
       "  0.996150016784668,\n",
       "  0.9961666464805603,\n",
       "  0.9957166910171509,\n",
       "  0.9974166750907898,\n",
       "  0.9954666495323181,\n",
       "  0.9956833124160767,\n",
       "  0.9964333176612854,\n",
       "  0.9965333342552185,\n",
       "  0.9960333108901978,\n",
       "  0.9972666501998901,\n",
       "  0.9968500137329102,\n",
       "  0.9971333146095276,\n",
       "  0.9968833327293396]}"
      ]
     },
     "execution_count": 28,
     "metadata": {},
     "output_type": "execute_result"
    }
   ],
   "source": [
    "network.compile(optimizer= optimizers.Adam(lr=0.01),\n",
    "               loss=losses.CategoricalCrossentropy(from_logits=True),\n",
    "                metrics=['accuracy'])\n",
    "history=network.fit(xy_dataset,epochs=30)\n",
    "history.history"
   ]
  },
  {
   "cell_type": "markdown",
   "metadata": {},
   "source": [
    "# test"
   ]
  },
  {
   "cell_type": "code",
   "execution_count": 29,
   "metadata": {},
   "outputs": [
    {
     "name": "stdout",
     "output_type": "stream",
     "text": [
      "(10000, 28, 28, 1)\n",
      "(10000, 10)\n"
     ]
    }
   ],
   "source": [
    "test_dataset=tf.data.Dataset.from_tensor_slices((x_test,y_test))\n",
    "test_dataset=test_dataset.batch(128)\n",
    "test_dataset=test_dataset.map(preprocess)\n",
    "out=network.predict(x_test)\n",
    "print(x_test.shape)\n",
    "print(out.shape)"
   ]
  },
  {
   "cell_type": "code",
   "execution_count": 30,
   "metadata": {},
   "outputs": [
    {
     "name": "stdout",
     "output_type": "stream",
     "text": [
      "79/79 [==============================] - 1s 9ms/step - loss: 0.3522 - accuracy: 0.9854\n"
     ]
    },
    {
     "data": {
      "text/plain": [
       "[0.3522242605686188, 0.9854000210762024]"
      ]
     },
     "execution_count": 30,
     "metadata": {},
     "output_type": "execute_result"
    }
   ],
   "source": [
    "network.evaluate(test_dataset)"
   ]
  },
  {
   "cell_type": "code",
   "execution_count": 31,
   "metadata": {},
   "outputs": [
    {
     "data": {
      "image/png": "[encoded data removed]",
      "text/plain": [
       "<Figure size 432x288 with 2 Axes>"
      ]
     },
     "metadata": {
      "needs_background": "light"
     },
     "output_type": "display_data"
    }
   ],
   "source": [
    "acc = history.history['accuracy']\n",
    "loss = history.history['loss']\n",
    "\n",
    "plt.subplot(1, 2, 1)\n",
    "plt.plot(acc, label='Training Accuracy')\n",
    "plt.title('Training Accuracy')\n",
    "plt.axis([0,30,0.9,1])\n",
    "plt.legend()\n",
    "\n",
    "plt.subplot(1, 2, 2)\n",
    "plt.plot(loss, label='Training Loss')\n",
    "plt.title('Training Loss')\n",
    "plt.axis([0,30,0,0.1])\n",
    "plt.legend()\n",
    "plt.show()"
   ]
  }
 ],
 "metadata": {
  "kernelspec": {
   "display_name": "Python 3",
   "language": "python",
   "name": "python3"
  },
  "language_info": {
   "codemirror_mode": {
    "name": "ipython",
    "version": 3
   },
   "file_extension": ".py",
   "mimetype": "text/x-python",
   "name": "python",
   "nbconvert_exporter": "python",
   "pygments_lexer": "ipython3",
   "version": "3.8.5"
  }
 },
 "nbformat": 4,
 "nbformat_minor": 2
}
